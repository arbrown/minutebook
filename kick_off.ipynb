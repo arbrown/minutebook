{
 "cells": [
  {
   "cell_type": "code",
   "execution_count": 1,
   "metadata": {
    "collapsed": false
   },
   "outputs": [],
   "source": [
    "import minute_book\n",
    "from grading import company_extract\n",
    "\n",
    "# data locations\n",
    "\n",
    "train_path = '/home/matt/GitHub/minutebook/Data/Train/'\n",
    "# test_path = '/home/matt/MinuteBook/Data/Test/'"
   ]
  },
  {
   "cell_type": "code",
   "execution_count": 2,
   "metadata": {
    "collapsed": false,
    "scrolled": false
   },
   "outputs": [
    {
     "name": "stdout",
     "output_type": "stream",
     "text": [
      "AcadiaHealthcareCompanyInc_20140306_S-4_EX-3.6.txt\n",
      "['abilene holding company llc', 'acadia healthcare company inc', 'acadia healthcare company inc', 'axiall ohio inc', 'eagle natrium llc', 'ppg industries inc']\n",
      "AcadiaHealthcareCompanyInc_20140306_S-4_EX-3.6.txt\n",
      "['abilene holding company llc', 'acadia healthcare company inc', 'acadia healthcare company inc', 'axiall ohio inc', 'eagle natrium llc', 'ppg industries inc']\n",
      "AcadiaHealthcareCompanyInc_20140306_S-4_EX-3.6.txt\n",
      "['abilene holding company llc', 'acadia healthcare company inc', 'acadia healthcare company inc', 'axiall ohio inc', 'eagle natrium llc', 'ppg industries inc']\n",
      "dict_keys(['text', 'dates', 'doc_date', 'company_names', 'file_name', 'raw_text'])\n",
      "14\n"
     ]
    }
   ],
   "source": [
    "# runs the minute book functions\n",
    "mb = minute_book.minute_book() # creating a minute_book object\n",
    "mb.load_docs(train_path) # loads the documents\n",
    "# mb.document_type() # classifies the documents\n",
    "mb.company_extraction() # extracts the company names (CORPORATION WILL NOT BE CAPITALIZED)\n",
    "print(mb.docs[1].info['file_name'])\n",
    "print(mb.docs[1].info['company_names'])\n",
    "print(mb.docs[1].info.keys())\n",
    "print(len(mb.docs))\n",
    "# mb.date_extraction() # finds the date of the document\n",
    "# mb.mb_to_csv(results_path)\n",
    "\n",
    "# mb.mb_to_csv(results_path) # saves the minute book \n",
    "\n",
    "# grades the results\n",
    "# company_extract(answer_path, results_path)"
   ]
  },
  {
   "cell_type": "code",
   "execution_count": 3,
   "metadata": {
    "collapsed": false
   },
   "outputs": [],
   "source": [
    "# from gensim import corpora, models, similarities\n",
    "# from gensim.models import Word2Vec\n",
    "# model = Word2Vec(sentences, size=100, window=5, min_count=5, workers=4)"
   ]
  },
  {
   "cell_type": "code",
   "execution_count": 4,
   "metadata": {
    "collapsed": false,
    "scrolled": false
   },
   "outputs": [],
   "source": [
    "# llc 'acadia management company llc' \n",
    "# member 'acadia healthcare company inc'\n",
    "\n",
    "# test = mb.docs[6]\n",
    "# sentences = test.info['text']\n",
    "\n",
    "# test = mb.docs[7]\n",
    "# sentences = sentences + test.info['text']\n",
    "\n",
    "# from gensim import corpora, models, similarities\n",
    "# from gensim.models import Word2Vec\n",
    "# model = Word2Vec(sentences, size=1000, window=2, min_count=1, workers=4)"
   ]
  },
  {
   "cell_type": "code",
   "execution_count": 5,
   "metadata": {
    "collapsed": false
   },
   "outputs": [],
   "source": [
    "# print(sentences[0])"
   ]
  },
  {
   "cell_type": "code",
   "execution_count": 6,
   "metadata": {
    "collapsed": false
   },
   "outputs": [],
   "source": [
    "# print(model.similarity('berry petroleum company llc', 'brookstone holdings inc'))\n",
    "# print(model.similarity('berry petroleum company llc', 'big blue audio llc'))"
   ]
  }
 ],
 "metadata": {
  "kernelspec": {
   "display_name": "Python 3",
   "language": "python",
   "name": "python3"
  },
  "language_info": {
   "codemirror_mode": {
    "name": "ipython",
    "version": 3
   },
   "file_extension": ".py",
   "mimetype": "text/x-python",
   "name": "python",
   "nbconvert_exporter": "python",
   "pygments_lexer": "ipython3",
   "version": "3.4.3"
  }
 },
 "nbformat": 4,
 "nbformat_minor": 0
}
