{
 "cells": [
  {
   "cell_type": "code",
   "execution_count": 1,
   "metadata": {
    "collapsed": false
   },
   "outputs": [],
   "source": [
    "import minute_book\n",
    "from grading import company_extract\n",
    "\n",
    "# data locations\n",
    "text_path = '/home/matt/MinuteBook/Data/Extraction/'\n",
    "results_path = '/home/matt/MinuteBook/Data/extract_results.csv'\n",
    "answer_path = '/home/matt/MinuteBook/Data/answer_key.csv'\n",
    "\n",
    "text_path = '/home/matt/MinuteBook/Data/Extraction_select/'\n",
    "results_path = '/home/matt/MinuteBook/Data/extract_results_select.csv'\n",
    "answer_path = '/home/matt/MinuteBook/Data/answer_key_select.csv'\n",
    "\n",
    "train_path = '/home/matt/MinuteBook/Data/Train/'\n",
    "test_path = '/home/matt/MinuteBook/Data/Test/'"
   ]
  },
  {
   "cell_type": "code",
   "execution_count": 2,
   "metadata": {
    "collapsed": false,
    "scrolled": true
   },
   "outputs": [],
   "source": [
    "# text_path = '/home/matt/MinuteBook/Data/test/'\n",
    "\n",
    "# runs the minute book functions\n",
    "mb = minute_book.minute_book() # creating a minute_book object\n",
    "mb.load_docs(train_path) # loads the documents\n",
    "# mb.document_type() # classifies the documents\n",
    "mb.company_extraction() # extracts the company names (CORPORATION WILL NOT BE CAPITALIZED)\n",
    "sentences = mb.get_sentences()\n",
    "companies = mb.get_companies()\n",
    "# mb.date_extraction() # finds the date of the document\n",
    "# mb.mb_to_csv(results_path)\n",
    "\n",
    "# mb.mb_to_csv(results_path) # saves the minute book \n",
    "\n",
    "# grades the results\n",
    "# company_extract(answer_path, results_path)"
   ]
  },
  {
   "cell_type": "code",
   "execution_count": 3,
   "metadata": {
    "collapsed": false
   },
   "outputs": [
    {
     "name": "stdout",
     "output_type": "stream",
     "text": [
      "['source', ':', 'a-mark precious metals inc', '10-q', '2/10/2015', 'exhibit', '10.1limited', 'liability', 'company', 'agreement', 'of', 'a-m', 'global', 'logistics', 'llcthis', 'limited', 'liability', 'company', 'agreement', '(', 'this', 'agreement', ')', 'of', 'a-m global logistics llc', '(', 'the', '``', 'company', \"''\", ')', 'is', 'enteredinto', 'effective', 'as', 'of', 'october', '15', '2014', 'by', 'a-mark precious metals inc', 'a', 'delaware', 'corporation', 'as', 'the', 'initial', 'solemember', '(', 'the', 'initial', 'member', ')', '.whereas', 'a-m global logistics llc', 'was', 'formed', 'by', 'the', 'filing', 'of', 'a', 'certificate', 'of', 'formation', 'with', 'the', 'secretary', 'ofstate', 'of', 'the', 'state', 'of', 'delaware', 'on', 'october', '15', '2014', 'pursuant', 'to', 'and', 'in', 'accordance', 'with', 'the', 'delaware', 'limited', 'liability', 'companyact', 'title', '6', 'of', 'the', 'delaware', 'code', 'section', '18-101', 'et', 'seq', '.']\n"
     ]
    }
   ],
   "source": [
    "print(sentences[1][0])"
   ]
  },
  {
   "cell_type": "code",
   "execution_count": 4,
   "metadata": {
    "collapsed": false
   },
   "outputs": [],
   "source": [
    "# from gensim import corpora, models, similarities\n",
    "# from gensim.models import Word2Vec\n",
    "# model = Word2Vec(sentences, size=100, window=5, min_count=5, workers=4)"
   ]
  },
  {
   "cell_type": "code",
   "execution_count": 55,
   "metadata": {
    "collapsed": false,
    "scrolled": false
   },
   "outputs": [],
   "source": [
    "# llc 'acadia management company llc' \n",
    "# member 'acadia healthcare company inc'\n",
    "\n",
    "test = mb.docs[6]\n",
    "sentences = test.info['text']\n",
    "\n",
    "test = mb.docs[7]\n",
    "sentences = sentences + test.info['text']\n",
    "\n",
    "from gensim import corpora, models, similarities\n",
    "from gensim.models import Word2Vec\n",
    "model = Word2Vec(sentences, size=1000, window=2, min_count=1, workers=4)"
   ]
  },
  {
   "cell_type": "code",
   "execution_count": 56,
   "metadata": {
    "collapsed": false
   },
   "outputs": [
    {
     "name": "stdout",
     "output_type": "stream",
     "text": [
      "['limited', 'liability', 'company', 'agreement', 'of', 'big blue audio llc', '(', 'a', 'new', 'hampshire', 'limited', 'liability', 'company', ')', 'exhibit', 't3b.7', 'this', 'is', 'the', 'limited', 'liability', 'company', 'agreement', '(', 'this', 'agreement', ')', 'of', 'big blue audio llc', 'a', 'new', 'hampshire', 'limited', 'liability', 'company', '(', 'the', 'company', ')', 'dated', 'as', 'of', 'october', '24', '2011', 'and', 'by', 'which', 'brookstone holdings inc', '(', 'the', 'member', ')', 'in', 'consideration', 'of', 'the', 'capital', 'contributions', 'to', 'the', 'company', 'and', 'the', 'promises', 'set', 'forth', 'in', 'this', 'agreement', '(', 'the', 'adequacy', 'and', 'sufficiency', 'and', 'receipt', 'of', 'which', 'are', 'hereby', 'acknowledged', ')', 'hereby', 'agrees', 'as', 'follows', ':', '1', '.']\n"
     ]
    }
   ],
   "source": [
    "print(sentences[0])"
   ]
  },
  {
   "cell_type": "code",
   "execution_count": 57,
   "metadata": {
    "collapsed": false
   },
   "outputs": [
    {
     "name": "stdout",
     "output_type": "stream",
     "text": [
      "-0.0460596480408\n",
      "0.0640745959399\n"
     ]
    }
   ],
   "source": [
    "print(model.similarity('berry petroleum company llc', 'brookstone holdings inc'))\n",
    "print(model.similarity('berry petroleum company llc', 'big blue audio llc'))"
   ]
  },
  {
   "cell_type": "code",
   "execution_count": null,
   "metadata": {
    "collapsed": true
   },
   "outputs": [],
   "source": []
  }
 ],
 "metadata": {
  "kernelspec": {
   "display_name": "Python 2",
   "language": "python",
   "name": "python2"
  },
  "language_info": {
   "codemirror_mode": {
    "name": "ipython",
    "version": 2
   },
   "file_extension": ".py",
   "mimetype": "text/x-python",
   "name": "python",
   "nbconvert_exporter": "python",
   "pygments_lexer": "ipython2",
   "version": "2.7.10"
  }
 },
 "nbformat": 4,
 "nbformat_minor": 0
}
