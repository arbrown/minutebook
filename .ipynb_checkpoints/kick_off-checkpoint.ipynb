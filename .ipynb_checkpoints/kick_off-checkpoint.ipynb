{
 "cells": [
  {
   "cell_type": "code",
   "execution_count": 1,
   "metadata": {
    "collapsed": false
   },
   "outputs": [],
   "source": [
    "import minute_book\n",
    "from grading import company_extract\n",
    "\n",
    "# data locations\n",
    "\n",
    "train_path = '/home/matt/GitHub/minutebook/Data/Train/'\n",
    "# test_path = '/home/matt/MinuteBook/Data/Test/'"
   ]
  },
  {
   "cell_type": "code",
   "execution_count": 5,
   "metadata": {
    "collapsed": false,
    "scrolled": false
   },
   "outputs": [
    {
     "name": "stdout",
     "output_type": "stream",
     "text": [
      "AcadiaHealthcareCompanyInc_20140306_S-4_EX-3.6.txt\n",
      "[]\n",
      "dict_keys(['raw_text', 'text', 'dates', 'doc_date', 'company_names', 'file_name'])\n",
      "[['limited', 'liability', 'company', 'agreement', 'abilene holding company llc', 'of', 'exhibit', '3.6', 'this', 'limited', 'liability', 'agreement', '(', 'the', '“agreement”', ')', 'of', 'abilene holding company llc', 'a', 'delaware', 'limited', 'company', '(', 'the', '“company”', ')', 'is', 'entered', 'into', 'by', 'and', 'between', 'acadia healthcare company inc', 'a', 'delaware', 'corporation', '(', 'the', '“member”', ')', 'and', 'the', 'persons', 'admitted', 'to', 'the', 'company', 'as', 'members', 'who', 'shall', 'be', 'identified', 'on', 'schedule', 'a', 'as', 'amended', 'from', 'time', 'to', 'time', 'effective', 'as', 'of', 'december', '20', '2013', '.'], ['whereas', 'the', 'member', 'desires', 'to', 'form', 'the', 'company', 'as', 'a', 'limited', 'liability', 'company', 'in', 'accordance', 'with', 'the', 'delaware', 'limited', 'liability', 'company', 'act', '(', 'as', 'amended', 'the', '“act”', ')', ';', 'now', 'therefore', 'in', 'consideration', 'of', 'the', 'mutual', 'covenants', 'and', 'promises', 'contained', 'herein', 'and', 'for', 'other', 'good', 'and', 'valuable', 'consideration', 'the', 'receipt', 'and', 'adequacy', 'of', 'which', 'are', 'hereby', 'acknowledged', 'the', 'parties', 'hereto', 'agree', 'as', 'follows', ':', 'section', '1', '.'], ['organization', '.'], ['on', 'december', '20', '2013', 'the', 'company', 'was', 'formed', 'as', 'a', 'delaware', 'limited', 'liability', 'company', 'by', 'the', 'filing', 'of', 'a', 'certificate', 'of', 'formation', 'in', 'the', 'office', 'of', 'the', 'secretary', 'of', 'state', 'of', 'delaware', '(', 'the', '“certificate”', ')', '.'], ['section', '2', '.'], ['registered', 'office;', 'registered', 'agent', '.'], ['the', 'registered', 'office', 'of', 'the', 'company', 'in', 'the', 'state', 'of', 'delaware', 'will', 'be', 'the', 'initial', 'registered', 'office', 'designated', 'in', 'the', 'certificate', 'or', 'such', 'other', 'office', '(', 'which', 'need', 'not', 'be', 'a', 'place', 'of', 'business', 'of', 'the', 'company', ')', 'as', 'the', 'member', 'may', 'designate', 'from', 'time', 'to', 'time', 'in', 'the', 'manner', 'provided', 'by', 'law', '.'], ['the', 'registered', 'agent', 'of', 'the', 'company', 'in', 'the', 'state', 'of', 'delaware', 'will', 'be', 'the', 'initial', 'registered', 'agent', 'designated', 'in', 'the', 'certificate', 'or', 'such', 'other', 'person', 'as', 'the', 'member', 'may', 'designate', 'from', 'time', 'to', 'time', 'in', 'the', 'manner', 'provided', 'by', 'law', '.'], ['the', 'principal', 'office', 'of', 'the', 'company', 'will', 'be', 'at', 'such', 'location', 'as', 'the', 'member', 'may', 'designate', 'from', 'time', 'to', 'time', 'which', 'need', 'not', 'be', 'in', 'the', 'state', 'of', 'delaware', '.'], ['section', '3', '.'], ['powers', '.'], ['the', 'company', 'will', 'have', 'all', 'powers', 'permitted', 'to', 'be', 'exercised', 'by', 'a', 'limited', 'liability', 'company', 'organized', 'in', 'the', 'state', 'of', 'delaware', '.'], ['section', '4', '.'], ['term', '.'], ['the', 'company', 'commenced', 'on', 'the', 'date', 'the', 'certificate', 'was', 'filed', 'with', 'the', 'secretary', 'of', 'state', 'of', 'delaware', 'and', 'will', 'continue', 'in', 'existence', 'until', 'terminated', 'pursuant', 'to', 'this', 'agreement', '.'], ['section', '5', '.'], ['fiscal', 'year', '.'], ['the', 'fiscal', 'year', 'of', 'the', 'company', 'for', 'financial', 'statement', 'and', 'federal', 'income', 'tax', 'purposes', 'will', 'end', 'on', 'december', '31', 'unless', 'otherwise', 'determined', 'by', 'the', 'member', '.'], ['section', '6', '.'], ['member', '.'], ['the', 'member', 'owns', '100', '%', 'of', 'the', 'limited', 'liability', 'company', 'interests', 'in', 'the', 'company', '.'], ['source', ':', 'acadia healthcare company inc', 's-4', '3/6/2014', 'section', '7', '.'], ['address', '.'], ['the', 'address', 'of', 'the', 'member', 'is', 'set', 'forth', 'below', ':', '830', 'crescent', 'centre', 'drive', 'suite', '610', 'franklin', 'tn', '37067', 'section', '8', '.'], ['new', 'members', '.'], ['no', 'person', 'may', 'be', 'admitted', 'as', 'a', 'member', 'of', 'the', 'company', 'without', 'the', 'approval', 'of', 'the', 'member', '.'], ['section', '9', '.'], ['liability', 'to', 'third', 'parties', '.'], ['the', 'member', 'will', 'not', 'have', 'any', 'personal', 'liability', 'for', 'any', 'obligations', 'or', 'liabilities', 'of', 'the', 'company', 'whether', 'such', 'liabilities', 'arise', 'in', 'contract', 'tort', 'or', 'otherwise', '.'], ['section', '10', '.'], ['capital', 'contributions', '.'], ['on', 'or', 'before', 'the', 'date', 'hereof', 'the', 'member', 'has', 'made', 'a', 'capital', 'contribution', 'in', 'cash', 'to', 'the', 'company', 'in', 'the', 'amount', 'of', '$', '100.00', '.'], ['the', 'member', 'will', 'not', 'be', 'required', 'to', 'make', 'any', 'additional', 'capital', 'contributions', 'to', 'the', 'company', 'except', 'as', 'may', 'otherwise', 'be', 'agreed', 'to', 'by', 'the', 'member', '.'], ['section', '11', '.'], ['participation', 'in', 'profits', 'and', 'losses', '.'], ['all', 'profits', 'and', 'losses', 'of', 'the', 'company', 'will', 'be', 'allocated', 'to', 'the', 'member', '.'], ['section', '12', '.'], ['distributions', '.'], ['distributions', 'will', 'be', 'made', 'by', 'the', 'company', 'to', 'the', 'member', 'at', 'such', 'times', 'as', 'may', 'be', 'determined', 'by', 'the', 'member', '.'], ['section', '13', '.'], ['management', '.'], ['the', 'power', 'and', 'authority', 'to', 'manage', 'direct', 'and', 'control', 'the', 'company', 'will', 'be', 'vested', 'solely', 'in', 'the', 'member', '.'], ['section', '14', '.'], ['managers', '.'], ['the', 'member', 'may', 'from', 'time', 'to', 'time', 'designate', 'one', 'or', 'more', 'individuals', 'to', 'be', 'managers', 'of', 'the', 'company', '.'], ['managers', 'so', 'designated', 'will', 'have', 'such', 'authority', 'and', 'perform', 'such', 'duties', 'as', 'the', 'member', 'may', 'from', 'time', 'to', 'time', 'delegate', 'to', 'them', '.'], ['any', 'manager', 'may', 'resign', 'as', 'such', 'at', 'any', 'time', 'by', 'providing', 'written', 'notice', 'to', 'the', 'company', '.'], ['any', 'manager', 'may', 'be', 'removed', 'as', 'such', 'either', 'with', 'or', 'without', 'cause', 'by', 'the', 'member', 'in', 'its', 'sole', 'discretion', '.'], ['the', 'managers', 'of', 'the', 'company', 'if', 'and', 'when', 'designated', 'by', 'the', 'member', 'will', 'have', 'the', 'authority', 'acting', 'individually', 'to', 'bind', 'the', 'company', '.'], ['section', '15', '.'], ['indemnification', '.'], ['the', 'company', 'shall', 'indemnify', 'any', 'individual', 'who', 'is', 'or', 'was', 'a', 'party', 'or', 'is', 'or', 'was', 'threatened', 'to', 'be', 'made', 'a', 'party', 'to', 'any', 'action', 'suit', 'or', 'proceeding', 'whether', 'civil', 'criminal', 'administrative', 'or', 'investigative', 'by', 'reason', 'of', 'the', 'fact', 'that', 'he', 'is', 'or', 'was', 'an', 'officer', 'of', 'the', 'company', 'against', 'expenses', '(', 'including', 'reasonable', 'attorneys’', 'fees', 'and', 'expenses', ')', 'judgments', 'fines', 'and', 'amounts', 'paid', 'in', 'settlement', 'actually', 'and', 'reasonably', 'incurred', 'by', 'such', 'individual', 'in', 'connection', 'with', 'such', 'action', 'suit', 'or', 'proceeding', 'to', 'the', 'extent', 'permitted', 'by', 'applicable', 'law', '.'], ['the', 'right', 'to', 'indemnification', 'conferred', 'in', 'this', 'section', '15', 'includes', 'the', 'right', 'of', 'such', 'individual', 'to', 'be', 'paid', 'by', 'the', 'company', 'the', 'expenses', 'incurred', 'in', 'defending', 'any', 'such', 'action', 'in', 'advance', 'of', 'its', 'final', 'disposition', '(', 'an', '“advancement', 'of', 'expenses”', ')', ';', 'provided', 'however', 'that', 'the', 'company', 'will', 'only', 'make', 'an', 'advancement', 'of', 'expenses', 'upon', 'delivery', 'to', 'the', 'company', 'of', 'an', 'undertaking', 'by', 'or', 'on', 'behalf', 'of', 'such', 'indemnitee', 'to', 'repay', 'all', 'amounts', 'so', 'advanced', 'if', 'it', 'is', 'ultimately', 'determined', 'that', 'such', 'indemnitee', 'is', 'not', 'entitled', 'to', 'be', 'indemnified', 'under', 'this', 'section', '15', 'or', 'otherwise', '.'], ['2', 'source', ':', 'acadia healthcare company inc', 's-4', '3/6/2014', 'section', '16', '.'], ['dissolution', '.'], ['the', 'company', 'will', 'dissolve', 'and', 'its', 'affairs', 'will', 'be', 'wound', 'up', 'as', 'may', 'be', 'determined', 'by', 'the', 'member', 'or', 'upon', 'the', 'earlier', 'occurrence', 'of', 'any', 'other', 'event', 'causing', 'dissolution', 'of', 'the', 'company', 'under', 'the', 'act', '.'], ['in', 'such', 'event', 'the', 'member', 'will', 'proceed', 'diligently', 'to', 'wind', 'up', 'the', 'affairs', 'of', 'the', 'company', 'and', 'make', 'final', 'distributions', 'and', 'will', 'cause', 'the', 'existence', 'of', 'the', 'company', 'to', 'be', 'terminated', '.'], ['section', '17', '.'], ['amendment', 'or', 'modification', '.'], ['this', 'agreement', 'may', 'be', 'amended', 'or', 'modified', 'from', 'time', 'to', 'time', 'only', 'by', 'a', 'written', 'instrument', 'that', 'is', 'executed', 'by', 'the', 'member', '.'], ['section', '18', '.'], ['binding', 'effect', '.'], ['this', 'agreement', 'will', 'be', 'binding', 'on', 'and', 'inure', 'to', 'the', 'benefit', 'of', 'the', 'member', 'and', 'its', 'successors', 'and', 'assigns', '.'], ['section', '19', '.'], ['governing', 'law', '.'], ['this', 'agreement', 'is', 'governed', 'by', 'and', 'will', 'be', 'construed', 'in', 'accordance', 'with', 'the', 'law', 'of', 'the', 'state', 'of', 'delaware', 'without', 'regard', 'to', 'the', 'conflicts', 'of', 'law', 'principles', 'thereof', '.'], ['[', 'remainder', 'of', 'page', 'left', 'blank', 'intentionally', '.', ']'], ['3', 'source', ':', 'acadia healthcare company inc', 's-4', '3/6/2014', 'in', 'witness', 'thereof', 'the', 'undersigned', 'hereto', 'has', 'executed', 'this', 'agreement', 'effective', 'as', 'of', 'the', 'date', 'set', 'forth', 'above', '.'], ['member', ':', 'acadia healthcare company inc', 'by', ':', '/s/', 'christopher', 'l.', 'howard', 'christopher', 'l.', 'howard', 'executive', 'vice', 'president', 'and', 'secretary', '[', 'source', ':', 'acadia healthcare company inc', 's-4', '3/6/2014', 'schedule', 'a', 'none', 'source', ':', 'acadia healthcare company inc', 's-4', '3/6/2014']]\n"
     ]
    }
   ],
   "source": [
    "# runs the minute book functions\n",
    "mb = minute_book.minute_book() # creating a minute_book object\n",
    "mb.load_docs(train_path) # loads the documents\n",
    "# mb.document_type() # classifies the documents\n",
    "mb.company_extraction() # extracts the company names (CORPORATION WILL NOT BE CAPITALIZED)\n",
    "print(mb.docs[1].info['file_name'])\n",
    "print(mb.docs[1].info['company_names'])\n",
    "print(mb.docs[1].info.keys())\n",
    "# mb.date_extraction() # finds the date of the document\n",
    "# mb.mb_to_csv(results_path)\n",
    "\n",
    "# mb.mb_to_csv(results_path) # saves the minute book \n",
    "\n",
    "# grades the results\n",
    "# company_extract(answer_path, results_path)"
   ]
  },
  {
   "cell_type": "code",
   "execution_count": null,
   "metadata": {
    "collapsed": false
   },
   "outputs": [],
   "source": [
    "# from gensim import corpora, models, similarities\n",
    "# from gensim.models import Word2Vec\n",
    "# model = Word2Vec(sentences, size=100, window=5, min_count=5, workers=4)"
   ]
  },
  {
   "cell_type": "code",
   "execution_count": null,
   "metadata": {
    "collapsed": false,
    "scrolled": false
   },
   "outputs": [],
   "source": [
    "# llc 'acadia management company llc' \n",
    "# member 'acadia healthcare company inc'\n",
    "\n",
    "# test = mb.docs[6]\n",
    "# sentences = test.info['text']\n",
    "\n",
    "# test = mb.docs[7]\n",
    "# sentences = sentences + test.info['text']\n",
    "\n",
    "# from gensim import corpora, models, similarities\n",
    "# from gensim.models import Word2Vec\n",
    "# model = Word2Vec(sentences, size=1000, window=2, min_count=1, workers=4)"
   ]
  },
  {
   "cell_type": "code",
   "execution_count": null,
   "metadata": {
    "collapsed": false
   },
   "outputs": [],
   "source": [
    "# print(sentences[0])"
   ]
  },
  {
   "cell_type": "code",
   "execution_count": null,
   "metadata": {
    "collapsed": false
   },
   "outputs": [],
   "source": [
    "# print(model.similarity('berry petroleum company llc', 'brookstone holdings inc'))\n",
    "# print(model.similarity('berry petroleum company llc', 'big blue audio llc'))"
   ]
  },
  {
   "cell_type": "code",
   "execution_count": null,
   "metadata": {
    "collapsed": true
   },
   "outputs": [],
   "source": []
  }
 ],
 "metadata": {
  "kernelspec": {
   "display_name": "Python 3",
   "language": "python",
   "name": "python3"
  },
  "language_info": {
   "codemirror_mode": {
    "name": "ipython",
    "version": 3
   },
   "file_extension": ".py",
   "mimetype": "text/x-python",
   "name": "python",
   "nbconvert_exporter": "python",
   "pygments_lexer": "ipython3",
   "version": "3.4.3"
  }
 },
 "nbformat": 4,
 "nbformat_minor": 0
}
